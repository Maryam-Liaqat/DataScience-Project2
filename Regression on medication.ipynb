{
 "cells": [
  {
   "cell_type": "markdown",
   "metadata": {},
   "source": [
    "# Regression of  Medical Cost Personal Datasets"
   ]
  },
  {
   "cell_type": "markdown",
   "metadata": {},
   "source": [
    "# Content"
   ]
  },
  {
   "cell_type": "markdown",
   "metadata": {},
   "source": [
    "- Data Pre-processing\n",
    "- Feature engineering\n",
    "- Predictive Modelling\n",
    "- Project Outcomes & Conclusion"
   ]
  },
  {
   "cell_type": "markdown",
   "metadata": {},
   "source": [
    "# Data Pre-processing"
   ]
  },
  {
   "cell_type": "markdown",
   "metadata": {},
   "source": [
    "# Import Libraries"
   ]
  },
  {
   "cell_type": "code",
   "execution_count": 27,
   "metadata": {},
   "outputs": [],
   "source": [
    "import numpy as np\n",
    "import pandas as pd\n",
    "import seaborn as sns\n",
    "import matplotlib.pyplot as plt\n",
    "import warnings\n",
    "from sklearn.model_selection import train_test_split\n",
    "from sklearn.linear_model import LinearRegression\n",
    "from sklearn.tree import DecisionTreeRegressor\n",
    "from sklearn.svm import SVR\n",
    "from sklearn.neighbors import KNeighborsRegressor\n",
    "from sklearn.ensemble import RandomForestRegressor\n",
    "from sklearn.metrics import r2_score, mean_absolute_error, mean_squared_error\n",
    "from sklearn.model_selection import cross_val_score\n",
    "\n",
    "from sklearn.preprocessing import StandardScaler\n",
    "from sklearn.preprocessing import LabelEncoder\n",
    "warnings.filterwarnings(\"ignore\")"
   ]
  },
  {
   "cell_type": "markdown",
   "metadata": {},
   "source": [
    "# Import DataSet"
   ]
  },
  {
   "cell_type": "code",
   "execution_count": 2,
   "metadata": {},
   "outputs": [],
   "source": [
    "df=pd.read_csv(\"insurance.csv\")"
   ]
  },
  {
   "cell_type": "markdown",
   "metadata": {},
   "source": [
    "# Check Top 5 Rows"
   ]
  },
  {
   "cell_type": "code",
   "execution_count": 3,
   "metadata": {},
   "outputs": [
    {
     "data": {
      "text/html": [
       "<div>\n",
       "<style scoped>\n",
       "    .dataframe tbody tr th:only-of-type {\n",
       "        vertical-align: middle;\n",
       "    }\n",
       "\n",
       "    .dataframe tbody tr th {\n",
       "        vertical-align: top;\n",
       "    }\n",
       "\n",
       "    .dataframe thead th {\n",
       "        text-align: right;\n",
       "    }\n",
       "</style>\n",
       "<table border=\"1\" class=\"dataframe\">\n",
       "  <thead>\n",
       "    <tr style=\"text-align: right;\">\n",
       "      <th></th>\n",
       "      <th>age</th>\n",
       "      <th>sex</th>\n",
       "      <th>bmi</th>\n",
       "      <th>children</th>\n",
       "      <th>smoker</th>\n",
       "      <th>region</th>\n",
       "      <th>charges</th>\n",
       "    </tr>\n",
       "  </thead>\n",
       "  <tbody>\n",
       "    <tr>\n",
       "      <th>0</th>\n",
       "      <td>19</td>\n",
       "      <td>female</td>\n",
       "      <td>27.900</td>\n",
       "      <td>0</td>\n",
       "      <td>yes</td>\n",
       "      <td>southwest</td>\n",
       "      <td>16884.92400</td>\n",
       "    </tr>\n",
       "    <tr>\n",
       "      <th>1</th>\n",
       "      <td>18</td>\n",
       "      <td>male</td>\n",
       "      <td>33.770</td>\n",
       "      <td>1</td>\n",
       "      <td>no</td>\n",
       "      <td>southeast</td>\n",
       "      <td>1725.55230</td>\n",
       "    </tr>\n",
       "    <tr>\n",
       "      <th>2</th>\n",
       "      <td>28</td>\n",
       "      <td>male</td>\n",
       "      <td>33.000</td>\n",
       "      <td>3</td>\n",
       "      <td>no</td>\n",
       "      <td>southeast</td>\n",
       "      <td>4449.46200</td>\n",
       "    </tr>\n",
       "    <tr>\n",
       "      <th>3</th>\n",
       "      <td>33</td>\n",
       "      <td>male</td>\n",
       "      <td>22.705</td>\n",
       "      <td>0</td>\n",
       "      <td>no</td>\n",
       "      <td>northwest</td>\n",
       "      <td>21984.47061</td>\n",
       "    </tr>\n",
       "    <tr>\n",
       "      <th>4</th>\n",
       "      <td>32</td>\n",
       "      <td>male</td>\n",
       "      <td>28.880</td>\n",
       "      <td>0</td>\n",
       "      <td>no</td>\n",
       "      <td>northwest</td>\n",
       "      <td>3866.85520</td>\n",
       "    </tr>\n",
       "  </tbody>\n",
       "</table>\n",
       "</div>"
      ],
      "text/plain": [
       "   age     sex     bmi  children smoker     region      charges\n",
       "0   19  female  27.900         0    yes  southwest  16884.92400\n",
       "1   18    male  33.770         1     no  southeast   1725.55230\n",
       "2   28    male  33.000         3     no  southeast   4449.46200\n",
       "3   33    male  22.705         0     no  northwest  21984.47061\n",
       "4   32    male  28.880         0     no  northwest   3866.85520"
      ]
     },
     "execution_count": 3,
     "metadata": {},
     "output_type": "execute_result"
    }
   ],
   "source": [
    "df.head()"
   ]
  },
  {
   "cell_type": "markdown",
   "metadata": {},
   "source": [
    "# Check Features"
   ]
  },
  {
   "cell_type": "code",
   "execution_count": 4,
   "metadata": {},
   "outputs": [
    {
     "data": {
      "text/plain": [
       "Index(['age', 'sex', 'bmi', 'children', 'smoker', 'region', 'charges'], dtype='object')"
      ]
     },
     "execution_count": 4,
     "metadata": {},
     "output_type": "execute_result"
    }
   ],
   "source": [
    "df.columns"
   ]
  },
  {
   "cell_type": "code",
   "execution_count": 5,
   "metadata": {},
   "outputs": [
    {
     "data": {
      "text/plain": [
       "0    574\n",
       "1    324\n",
       "2    240\n",
       "3    157\n",
       "4     25\n",
       "5     18\n",
       "Name: children, dtype: int64"
      ]
     },
     "execution_count": 5,
     "metadata": {},
     "output_type": "execute_result"
    }
   ],
   "source": [
    "df.children.value_counts()"
   ]
  },
  {
   "cell_type": "markdown",
   "metadata": {},
   "source": [
    "# Feature engineering"
   ]
  },
  {
   "cell_type": "code",
   "execution_count": 6,
   "metadata": {},
   "outputs": [],
   "source": [
    "le=LabelEncoder()\n",
    "df['sex']=le.fit_transform(df['sex'])\n",
    "df['children']=le.fit_transform(df['children'])\n",
    "df['smoker']=le.fit_transform(df['smoker'])\n",
    "df['region']=le.fit_transform(df['region'])"
   ]
  },
  {
   "cell_type": "markdown",
   "metadata": {},
   "source": [
    "**Observation:**\n",
    "   - **By using label Encoder we encode lable to catagorical features for converting them into numerical form.**"
   ]
  },
  {
   "cell_type": "markdown",
   "metadata": {},
   "source": [
    "# **Correlation between column**"
   ]
  },
  {
   "cell_type": "code",
   "execution_count": 7,
   "metadata": {},
   "outputs": [
    {
     "data": {
      "text/html": [
       "<style  type=\"text/css\" >\n",
       "#T_599dd11b_6c09_11ed_b850_b05ada9d0e85row0_col0,#T_599dd11b_6c09_11ed_b850_b05ada9d0e85row1_col1,#T_599dd11b_6c09_11ed_b850_b05ada9d0e85row2_col2,#T_599dd11b_6c09_11ed_b850_b05ada9d0e85row3_col3,#T_599dd11b_6c09_11ed_b850_b05ada9d0e85row4_col4,#T_599dd11b_6c09_11ed_b850_b05ada9d0e85row5_col5,#T_599dd11b_6c09_11ed_b850_b05ada9d0e85row6_col6{\n",
       "            background-color:  #084081;\n",
       "            color:  #f1f1f1;\n",
       "        }#T_599dd11b_6c09_11ed_b850_b05ada9d0e85row0_col1,#T_599dd11b_6c09_11ed_b850_b05ada9d0e85row0_col4,#T_599dd11b_6c09_11ed_b850_b05ada9d0e85row4_col0,#T_599dd11b_6c09_11ed_b850_b05ada9d0e85row4_col2,#T_599dd11b_6c09_11ed_b850_b05ada9d0e85row4_col3,#T_599dd11b_6c09_11ed_b850_b05ada9d0e85row5_col6,#T_599dd11b_6c09_11ed_b850_b05ada9d0e85row6_col5{\n",
       "            background-color:  #f7fcf0;\n",
       "            color:  #000000;\n",
       "        }#T_599dd11b_6c09_11ed_b850_b05ada9d0e85row0_col2{\n",
       "            background-color:  #e4f4de;\n",
       "            color:  #000000;\n",
       "        }#T_599dd11b_6c09_11ed_b850_b05ada9d0e85row0_col3,#T_599dd11b_6c09_11ed_b850_b05ada9d0e85row3_col4{\n",
       "            background-color:  #f1faeb;\n",
       "            color:  #000000;\n",
       "        }#T_599dd11b_6c09_11ed_b850_b05ada9d0e85row0_col5,#T_599dd11b_6c09_11ed_b850_b05ada9d0e85row1_col3,#T_599dd11b_6c09_11ed_b850_b05ada9d0e85row1_col5,#T_599dd11b_6c09_11ed_b850_b05ada9d0e85row3_col2,#T_599dd11b_6c09_11ed_b850_b05ada9d0e85row5_col3{\n",
       "            background-color:  #f6fbef;\n",
       "            color:  #000000;\n",
       "        }#T_599dd11b_6c09_11ed_b850_b05ada9d0e85row0_col6{\n",
       "            background-color:  #bde5be;\n",
       "            color:  #000000;\n",
       "        }#T_599dd11b_6c09_11ed_b850_b05ada9d0e85row1_col0,#T_599dd11b_6c09_11ed_b850_b05ada9d0e85row2_col3,#T_599dd11b_6c09_11ed_b850_b05ada9d0e85row4_col5{\n",
       "            background-color:  #f6fcef;\n",
       "            color:  #000000;\n",
       "        }#T_599dd11b_6c09_11ed_b850_b05ada9d0e85row1_col2{\n",
       "            background-color:  #f0f9e9;\n",
       "            color:  #000000;\n",
       "        }#T_599dd11b_6c09_11ed_b850_b05ada9d0e85row1_col4{\n",
       "            background-color:  #e5f5e0;\n",
       "            color:  #000000;\n",
       "        }#T_599dd11b_6c09_11ed_b850_b05ada9d0e85row1_col6,#T_599dd11b_6c09_11ed_b850_b05ada9d0e85row2_col1,#T_599dd11b_6c09_11ed_b850_b05ada9d0e85row3_col0{\n",
       "            background-color:  #ebf7e5;\n",
       "            color:  #000000;\n",
       "        }#T_599dd11b_6c09_11ed_b850_b05ada9d0e85row2_col0{\n",
       "            background-color:  #dff3da;\n",
       "            color:  #000000;\n",
       "        }#T_599dd11b_6c09_11ed_b850_b05ada9d0e85row2_col4{\n",
       "            background-color:  #f2faeb;\n",
       "            color:  #000000;\n",
       "        }#T_599dd11b_6c09_11ed_b850_b05ada9d0e85row2_col5{\n",
       "            background-color:  #daf1d5;\n",
       "            color:  #000000;\n",
       "        }#T_599dd11b_6c09_11ed_b850_b05ada9d0e85row2_col6{\n",
       "            background-color:  #d3eecd;\n",
       "            color:  #000000;\n",
       "        }#T_599dd11b_6c09_11ed_b850_b05ada9d0e85row3_col1{\n",
       "            background-color:  #f1f9ea;\n",
       "            color:  #000000;\n",
       "        }#T_599dd11b_6c09_11ed_b850_b05ada9d0e85row3_col5,#T_599dd11b_6c09_11ed_b850_b05ada9d0e85row5_col4{\n",
       "            background-color:  #f3fbed;\n",
       "            color:  #000000;\n",
       "        }#T_599dd11b_6c09_11ed_b850_b05ada9d0e85row3_col6{\n",
       "            background-color:  #eaf7e4;\n",
       "            color:  #000000;\n",
       "        }#T_599dd11b_6c09_11ed_b850_b05ada9d0e85row4_col1{\n",
       "            background-color:  #e6f5e0;\n",
       "            color:  #000000;\n",
       "        }#T_599dd11b_6c09_11ed_b850_b05ada9d0e85row4_col6{\n",
       "            background-color:  #2081b8;\n",
       "            color:  #000000;\n",
       "        }#T_599dd11b_6c09_11ed_b850_b05ada9d0e85row5_col0,#T_599dd11b_6c09_11ed_b850_b05ada9d0e85row5_col1{\n",
       "            background-color:  #f3faec;\n",
       "            color:  #000000;\n",
       "        }#T_599dd11b_6c09_11ed_b850_b05ada9d0e85row5_col2{\n",
       "            background-color:  #dcf1d6;\n",
       "            color:  #000000;\n",
       "        }#T_599dd11b_6c09_11ed_b850_b05ada9d0e85row6_col0{\n",
       "            background-color:  #bae4bd;\n",
       "            color:  #000000;\n",
       "        }#T_599dd11b_6c09_11ed_b850_b05ada9d0e85row6_col1{\n",
       "            background-color:  #e9f7e3;\n",
       "            color:  #000000;\n",
       "        }#T_599dd11b_6c09_11ed_b850_b05ada9d0e85row6_col2{\n",
       "            background-color:  #d5eece;\n",
       "            color:  #000000;\n",
       "        }#T_599dd11b_6c09_11ed_b850_b05ada9d0e85row6_col3{\n",
       "            background-color:  #ecf8e6;\n",
       "            color:  #000000;\n",
       "        }#T_599dd11b_6c09_11ed_b850_b05ada9d0e85row6_col4{\n",
       "            background-color:  #1f80b8;\n",
       "            color:  #000000;\n",
       "        }</style><table id=\"T_599dd11b_6c09_11ed_b850_b05ada9d0e85\" ><thead>    <tr>        <th class=\"blank level0\" ></th>        <th class=\"col_heading level0 col0\" >age</th>        <th class=\"col_heading level0 col1\" >sex</th>        <th class=\"col_heading level0 col2\" >bmi</th>        <th class=\"col_heading level0 col3\" >children</th>        <th class=\"col_heading level0 col4\" >smoker</th>        <th class=\"col_heading level0 col5\" >region</th>        <th class=\"col_heading level0 col6\" >charges</th>    </tr></thead><tbody>\n",
       "                <tr>\n",
       "                        <th id=\"T_599dd11b_6c09_11ed_b850_b05ada9d0e85level0_row0\" class=\"row_heading level0 row0\" >age</th>\n",
       "                        <td id=\"T_599dd11b_6c09_11ed_b850_b05ada9d0e85row0_col0\" class=\"data row0 col0\" >1.000000</td>\n",
       "                        <td id=\"T_599dd11b_6c09_11ed_b850_b05ada9d0e85row0_col1\" class=\"data row0 col1\" >-0.020856</td>\n",
       "                        <td id=\"T_599dd11b_6c09_11ed_b850_b05ada9d0e85row0_col2\" class=\"data row0 col2\" >0.109272</td>\n",
       "                        <td id=\"T_599dd11b_6c09_11ed_b850_b05ada9d0e85row0_col3\" class=\"data row0 col3\" >0.042469</td>\n",
       "                        <td id=\"T_599dd11b_6c09_11ed_b850_b05ada9d0e85row0_col4\" class=\"data row0 col4\" >-0.025019</td>\n",
       "                        <td id=\"T_599dd11b_6c09_11ed_b850_b05ada9d0e85row0_col5\" class=\"data row0 col5\" >0.002127</td>\n",
       "                        <td id=\"T_599dd11b_6c09_11ed_b850_b05ada9d0e85row0_col6\" class=\"data row0 col6\" >0.299008</td>\n",
       "            </tr>\n",
       "            <tr>\n",
       "                        <th id=\"T_599dd11b_6c09_11ed_b850_b05ada9d0e85level0_row1\" class=\"row_heading level0 row1\" >sex</th>\n",
       "                        <td id=\"T_599dd11b_6c09_11ed_b850_b05ada9d0e85row1_col0\" class=\"data row1 col0\" >-0.020856</td>\n",
       "                        <td id=\"T_599dd11b_6c09_11ed_b850_b05ada9d0e85row1_col1\" class=\"data row1 col1\" >1.000000</td>\n",
       "                        <td id=\"T_599dd11b_6c09_11ed_b850_b05ada9d0e85row1_col2\" class=\"data row1 col2\" >0.046371</td>\n",
       "                        <td id=\"T_599dd11b_6c09_11ed_b850_b05ada9d0e85row1_col3\" class=\"data row1 col3\" >0.017163</td>\n",
       "                        <td id=\"T_599dd11b_6c09_11ed_b850_b05ada9d0e85row1_col4\" class=\"data row1 col4\" >0.076185</td>\n",
       "                        <td id=\"T_599dd11b_6c09_11ed_b850_b05ada9d0e85row1_col5\" class=\"data row1 col5\" >0.004588</td>\n",
       "                        <td id=\"T_599dd11b_6c09_11ed_b850_b05ada9d0e85row1_col6\" class=\"data row1 col6\" >0.057292</td>\n",
       "            </tr>\n",
       "            <tr>\n",
       "                        <th id=\"T_599dd11b_6c09_11ed_b850_b05ada9d0e85level0_row2\" class=\"row_heading level0 row2\" >bmi</th>\n",
       "                        <td id=\"T_599dd11b_6c09_11ed_b850_b05ada9d0e85row2_col0\" class=\"data row2 col0\" >0.109272</td>\n",
       "                        <td id=\"T_599dd11b_6c09_11ed_b850_b05ada9d0e85row2_col1\" class=\"data row2 col1\" >0.046371</td>\n",
       "                        <td id=\"T_599dd11b_6c09_11ed_b850_b05ada9d0e85row2_col2\" class=\"data row2 col2\" >1.000000</td>\n",
       "                        <td id=\"T_599dd11b_6c09_11ed_b850_b05ada9d0e85row2_col3\" class=\"data row2 col3\" >0.012759</td>\n",
       "                        <td id=\"T_599dd11b_6c09_11ed_b850_b05ada9d0e85row2_col4\" class=\"data row2 col4\" >0.003750</td>\n",
       "                        <td id=\"T_599dd11b_6c09_11ed_b850_b05ada9d0e85row2_col5\" class=\"data row2 col5\" >0.157566</td>\n",
       "                        <td id=\"T_599dd11b_6c09_11ed_b850_b05ada9d0e85row2_col6\" class=\"data row2 col6\" >0.198341</td>\n",
       "            </tr>\n",
       "            <tr>\n",
       "                        <th id=\"T_599dd11b_6c09_11ed_b850_b05ada9d0e85level0_row3\" class=\"row_heading level0 row3\" >children</th>\n",
       "                        <td id=\"T_599dd11b_6c09_11ed_b850_b05ada9d0e85row3_col0\" class=\"data row3 col0\" >0.042469</td>\n",
       "                        <td id=\"T_599dd11b_6c09_11ed_b850_b05ada9d0e85row3_col1\" class=\"data row3 col1\" >0.017163</td>\n",
       "                        <td id=\"T_599dd11b_6c09_11ed_b850_b05ada9d0e85row3_col2\" class=\"data row3 col2\" >0.012759</td>\n",
       "                        <td id=\"T_599dd11b_6c09_11ed_b850_b05ada9d0e85row3_col3\" class=\"data row3 col3\" >1.000000</td>\n",
       "                        <td id=\"T_599dd11b_6c09_11ed_b850_b05ada9d0e85row3_col4\" class=\"data row3 col4\" >0.007673</td>\n",
       "                        <td id=\"T_599dd11b_6c09_11ed_b850_b05ada9d0e85row3_col5\" class=\"data row3 col5\" >0.016569</td>\n",
       "                        <td id=\"T_599dd11b_6c09_11ed_b850_b05ada9d0e85row3_col6\" class=\"data row3 col6\" >0.067998</td>\n",
       "            </tr>\n",
       "            <tr>\n",
       "                        <th id=\"T_599dd11b_6c09_11ed_b850_b05ada9d0e85level0_row4\" class=\"row_heading level0 row4\" >smoker</th>\n",
       "                        <td id=\"T_599dd11b_6c09_11ed_b850_b05ada9d0e85row4_col0\" class=\"data row4 col0\" >-0.025019</td>\n",
       "                        <td id=\"T_599dd11b_6c09_11ed_b850_b05ada9d0e85row4_col1\" class=\"data row4 col1\" >0.076185</td>\n",
       "                        <td id=\"T_599dd11b_6c09_11ed_b850_b05ada9d0e85row4_col2\" class=\"data row4 col2\" >0.003750</td>\n",
       "                        <td id=\"T_599dd11b_6c09_11ed_b850_b05ada9d0e85row4_col3\" class=\"data row4 col3\" >0.007673</td>\n",
       "                        <td id=\"T_599dd11b_6c09_11ed_b850_b05ada9d0e85row4_col4\" class=\"data row4 col4\" >1.000000</td>\n",
       "                        <td id=\"T_599dd11b_6c09_11ed_b850_b05ada9d0e85row4_col5\" class=\"data row4 col5\" >-0.002181</td>\n",
       "                        <td id=\"T_599dd11b_6c09_11ed_b850_b05ada9d0e85row4_col6\" class=\"data row4 col6\" >0.787251</td>\n",
       "            </tr>\n",
       "            <tr>\n",
       "                        <th id=\"T_599dd11b_6c09_11ed_b850_b05ada9d0e85level0_row5\" class=\"row_heading level0 row5\" >region</th>\n",
       "                        <td id=\"T_599dd11b_6c09_11ed_b850_b05ada9d0e85row5_col0\" class=\"data row5 col0\" >0.002127</td>\n",
       "                        <td id=\"T_599dd11b_6c09_11ed_b850_b05ada9d0e85row5_col1\" class=\"data row5 col1\" >0.004588</td>\n",
       "                        <td id=\"T_599dd11b_6c09_11ed_b850_b05ada9d0e85row5_col2\" class=\"data row5 col2\" >0.157566</td>\n",
       "                        <td id=\"T_599dd11b_6c09_11ed_b850_b05ada9d0e85row5_col3\" class=\"data row5 col3\" >0.016569</td>\n",
       "                        <td id=\"T_599dd11b_6c09_11ed_b850_b05ada9d0e85row5_col4\" class=\"data row5 col4\" >-0.002181</td>\n",
       "                        <td id=\"T_599dd11b_6c09_11ed_b850_b05ada9d0e85row5_col5\" class=\"data row5 col5\" >1.000000</td>\n",
       "                        <td id=\"T_599dd11b_6c09_11ed_b850_b05ada9d0e85row5_col6\" class=\"data row5 col6\" >-0.006208</td>\n",
       "            </tr>\n",
       "            <tr>\n",
       "                        <th id=\"T_599dd11b_6c09_11ed_b850_b05ada9d0e85level0_row6\" class=\"row_heading level0 row6\" >charges</th>\n",
       "                        <td id=\"T_599dd11b_6c09_11ed_b850_b05ada9d0e85row6_col0\" class=\"data row6 col0\" >0.299008</td>\n",
       "                        <td id=\"T_599dd11b_6c09_11ed_b850_b05ada9d0e85row6_col1\" class=\"data row6 col1\" >0.057292</td>\n",
       "                        <td id=\"T_599dd11b_6c09_11ed_b850_b05ada9d0e85row6_col2\" class=\"data row6 col2\" >0.198341</td>\n",
       "                        <td id=\"T_599dd11b_6c09_11ed_b850_b05ada9d0e85row6_col3\" class=\"data row6 col3\" >0.067998</td>\n",
       "                        <td id=\"T_599dd11b_6c09_11ed_b850_b05ada9d0e85row6_col4\" class=\"data row6 col4\" >0.787251</td>\n",
       "                        <td id=\"T_599dd11b_6c09_11ed_b850_b05ada9d0e85row6_col5\" class=\"data row6 col5\" >-0.006208</td>\n",
       "                        <td id=\"T_599dd11b_6c09_11ed_b850_b05ada9d0e85row6_col6\" class=\"data row6 col6\" >1.000000</td>\n",
       "            </tr>\n",
       "    </tbody></table>"
      ],
      "text/plain": [
       "<pandas.io.formats.style.Styler at 0x1ff24778b20>"
      ]
     },
     "execution_count": 7,
     "metadata": {},
     "output_type": "execute_result"
    }
   ],
   "source": [
    "df.corr().style.background_gradient(cmap='GnBu') # Correlation heatmap,we are checking how dependent the variables are with the target variable."
   ]
  },
  {
   "cell_type": "markdown",
   "metadata": {},
   "source": [
    "# Correlation With Target"
   ]
  },
  {
   "cell_type": "code",
   "execution_count": 8,
   "metadata": {},
   "outputs": [
    {
     "data": {
      "text/plain": [
       "region     -0.006208\n",
       "sex         0.057292\n",
       "children    0.067998\n",
       "bmi         0.198341\n",
       "age         0.299008\n",
       "smoker      0.787251\n",
       "charges     1.000000\n",
       "Name: charges, dtype: float64"
      ]
     },
     "execution_count": 8,
     "metadata": {},
     "output_type": "execute_result"
    }
   ],
   "source": [
    "df.corr()['charges'].sort_values()"
   ]
  },
  {
   "cell_type": "code",
   "execution_count": 9,
   "metadata": {},
   "outputs": [
    {
     "data": {
      "text/html": [
       "<div>\n",
       "<style scoped>\n",
       "    .dataframe tbody tr th:only-of-type {\n",
       "        vertical-align: middle;\n",
       "    }\n",
       "\n",
       "    .dataframe tbody tr th {\n",
       "        vertical-align: top;\n",
       "    }\n",
       "\n",
       "    .dataframe thead th {\n",
       "        text-align: right;\n",
       "    }\n",
       "</style>\n",
       "<table border=\"1\" class=\"dataframe\">\n",
       "  <thead>\n",
       "    <tr style=\"text-align: right;\">\n",
       "      <th></th>\n",
       "      <th>age</th>\n",
       "      <th>sex</th>\n",
       "      <th>bmi</th>\n",
       "      <th>children</th>\n",
       "      <th>smoker</th>\n",
       "      <th>region</th>\n",
       "      <th>charges</th>\n",
       "    </tr>\n",
       "  </thead>\n",
       "  <tbody>\n",
       "    <tr>\n",
       "      <th>0</th>\n",
       "      <td>19</td>\n",
       "      <td>0</td>\n",
       "      <td>27.900</td>\n",
       "      <td>0</td>\n",
       "      <td>1</td>\n",
       "      <td>3</td>\n",
       "      <td>16884.92400</td>\n",
       "    </tr>\n",
       "    <tr>\n",
       "      <th>1</th>\n",
       "      <td>18</td>\n",
       "      <td>1</td>\n",
       "      <td>33.770</td>\n",
       "      <td>1</td>\n",
       "      <td>0</td>\n",
       "      <td>2</td>\n",
       "      <td>1725.55230</td>\n",
       "    </tr>\n",
       "    <tr>\n",
       "      <th>2</th>\n",
       "      <td>28</td>\n",
       "      <td>1</td>\n",
       "      <td>33.000</td>\n",
       "      <td>3</td>\n",
       "      <td>0</td>\n",
       "      <td>2</td>\n",
       "      <td>4449.46200</td>\n",
       "    </tr>\n",
       "    <tr>\n",
       "      <th>3</th>\n",
       "      <td>33</td>\n",
       "      <td>1</td>\n",
       "      <td>22.705</td>\n",
       "      <td>0</td>\n",
       "      <td>0</td>\n",
       "      <td>1</td>\n",
       "      <td>21984.47061</td>\n",
       "    </tr>\n",
       "    <tr>\n",
       "      <th>4</th>\n",
       "      <td>32</td>\n",
       "      <td>1</td>\n",
       "      <td>28.880</td>\n",
       "      <td>0</td>\n",
       "      <td>0</td>\n",
       "      <td>1</td>\n",
       "      <td>3866.85520</td>\n",
       "    </tr>\n",
       "  </tbody>\n",
       "</table>\n",
       "</div>"
      ],
      "text/plain": [
       "   age  sex     bmi  children  smoker  region      charges\n",
       "0   19    0  27.900         0       1       3  16884.92400\n",
       "1   18    1  33.770         1       0       2   1725.55230\n",
       "2   28    1  33.000         3       0       2   4449.46200\n",
       "3   33    1  22.705         0       0       1  21984.47061\n",
       "4   32    1  28.880         0       0       1   3866.85520"
      ]
     },
     "execution_count": 9,
     "metadata": {},
     "output_type": "execute_result"
    }
   ],
   "source": [
    "df.head()"
   ]
  },
  {
   "cell_type": "markdown",
   "metadata": {},
   "source": [
    "# Predictive Modelling"
   ]
  },
  {
   "cell_type": "markdown",
   "metadata": {},
   "source": [
    "# Split the feature and target output"
   ]
  },
  {
   "cell_type": "code",
   "execution_count": 10,
   "metadata": {},
   "outputs": [],
   "source": [
    "y=df['charges']\n",
    "X=df.drop('charges',axis=1)"
   ]
  },
  {
   "cell_type": "code",
   "execution_count": 11,
   "metadata": {},
   "outputs": [
    {
     "data": {
      "text/html": [
       "<div>\n",
       "<style scoped>\n",
       "    .dataframe tbody tr th:only-of-type {\n",
       "        vertical-align: middle;\n",
       "    }\n",
       "\n",
       "    .dataframe tbody tr th {\n",
       "        vertical-align: top;\n",
       "    }\n",
       "\n",
       "    .dataframe thead th {\n",
       "        text-align: right;\n",
       "    }\n",
       "</style>\n",
       "<table border=\"1\" class=\"dataframe\">\n",
       "  <thead>\n",
       "    <tr style=\"text-align: right;\">\n",
       "      <th></th>\n",
       "      <th>age</th>\n",
       "      <th>sex</th>\n",
       "      <th>bmi</th>\n",
       "      <th>children</th>\n",
       "      <th>smoker</th>\n",
       "      <th>region</th>\n",
       "    </tr>\n",
       "  </thead>\n",
       "  <tbody>\n",
       "    <tr>\n",
       "      <th>0</th>\n",
       "      <td>19</td>\n",
       "      <td>0</td>\n",
       "      <td>27.900</td>\n",
       "      <td>0</td>\n",
       "      <td>1</td>\n",
       "      <td>3</td>\n",
       "    </tr>\n",
       "    <tr>\n",
       "      <th>1</th>\n",
       "      <td>18</td>\n",
       "      <td>1</td>\n",
       "      <td>33.770</td>\n",
       "      <td>1</td>\n",
       "      <td>0</td>\n",
       "      <td>2</td>\n",
       "    </tr>\n",
       "    <tr>\n",
       "      <th>2</th>\n",
       "      <td>28</td>\n",
       "      <td>1</td>\n",
       "      <td>33.000</td>\n",
       "      <td>3</td>\n",
       "      <td>0</td>\n",
       "      <td>2</td>\n",
       "    </tr>\n",
       "    <tr>\n",
       "      <th>3</th>\n",
       "      <td>33</td>\n",
       "      <td>1</td>\n",
       "      <td>22.705</td>\n",
       "      <td>0</td>\n",
       "      <td>0</td>\n",
       "      <td>1</td>\n",
       "    </tr>\n",
       "    <tr>\n",
       "      <th>4</th>\n",
       "      <td>32</td>\n",
       "      <td>1</td>\n",
       "      <td>28.880</td>\n",
       "      <td>0</td>\n",
       "      <td>0</td>\n",
       "      <td>1</td>\n",
       "    </tr>\n",
       "    <tr>\n",
       "      <th>...</th>\n",
       "      <td>...</td>\n",
       "      <td>...</td>\n",
       "      <td>...</td>\n",
       "      <td>...</td>\n",
       "      <td>...</td>\n",
       "      <td>...</td>\n",
       "    </tr>\n",
       "    <tr>\n",
       "      <th>1333</th>\n",
       "      <td>50</td>\n",
       "      <td>1</td>\n",
       "      <td>30.970</td>\n",
       "      <td>3</td>\n",
       "      <td>0</td>\n",
       "      <td>1</td>\n",
       "    </tr>\n",
       "    <tr>\n",
       "      <th>1334</th>\n",
       "      <td>18</td>\n",
       "      <td>0</td>\n",
       "      <td>31.920</td>\n",
       "      <td>0</td>\n",
       "      <td>0</td>\n",
       "      <td>0</td>\n",
       "    </tr>\n",
       "    <tr>\n",
       "      <th>1335</th>\n",
       "      <td>18</td>\n",
       "      <td>0</td>\n",
       "      <td>36.850</td>\n",
       "      <td>0</td>\n",
       "      <td>0</td>\n",
       "      <td>2</td>\n",
       "    </tr>\n",
       "    <tr>\n",
       "      <th>1336</th>\n",
       "      <td>21</td>\n",
       "      <td>0</td>\n",
       "      <td>25.800</td>\n",
       "      <td>0</td>\n",
       "      <td>0</td>\n",
       "      <td>3</td>\n",
       "    </tr>\n",
       "    <tr>\n",
       "      <th>1337</th>\n",
       "      <td>61</td>\n",
       "      <td>0</td>\n",
       "      <td>29.070</td>\n",
       "      <td>0</td>\n",
       "      <td>1</td>\n",
       "      <td>1</td>\n",
       "    </tr>\n",
       "  </tbody>\n",
       "</table>\n",
       "<p>1338 rows × 6 columns</p>\n",
       "</div>"
      ],
      "text/plain": [
       "      age  sex     bmi  children  smoker  region\n",
       "0      19    0  27.900         0       1       3\n",
       "1      18    1  33.770         1       0       2\n",
       "2      28    1  33.000         3       0       2\n",
       "3      33    1  22.705         0       0       1\n",
       "4      32    1  28.880         0       0       1\n",
       "...   ...  ...     ...       ...     ...     ...\n",
       "1333   50    1  30.970         3       0       1\n",
       "1334   18    0  31.920         0       0       0\n",
       "1335   18    0  36.850         0       0       2\n",
       "1336   21    0  25.800         0       0       3\n",
       "1337   61    0  29.070         0       1       1\n",
       "\n",
       "[1338 rows x 6 columns]"
      ]
     },
     "execution_count": 11,
     "metadata": {},
     "output_type": "execute_result"
    }
   ],
   "source": [
    "X"
   ]
  },
  {
   "cell_type": "code",
   "execution_count": 12,
   "metadata": {},
   "outputs": [
    {
     "data": {
      "text/plain": [
       "0       16884.92400\n",
       "1        1725.55230\n",
       "2        4449.46200\n",
       "3       21984.47061\n",
       "4        3866.85520\n",
       "           ...     \n",
       "1333    10600.54830\n",
       "1334     2205.98080\n",
       "1335     1629.83350\n",
       "1336     2007.94500\n",
       "1337    29141.36030\n",
       "Name: charges, Length: 1338, dtype: float64"
      ]
     },
     "execution_count": 12,
     "metadata": {},
     "output_type": "execute_result"
    }
   ],
   "source": [
    "y"
   ]
  },
  {
   "cell_type": "markdown",
   "metadata": {},
   "source": [
    "# Train Test Split"
   ]
  },
  {
   "cell_type": "code",
   "execution_count": 13,
   "metadata": {},
   "outputs": [],
   "source": [
    "X_train, X_test, y_train, y_test = train_test_split(X, y, test_size=0.33, random_state=42)"
   ]
  },
  {
   "cell_type": "markdown",
   "metadata": {},
   "source": [
    "# StandardScaler"
   ]
  },
  {
   "cell_type": "code",
   "execution_count": 14,
   "metadata": {},
   "outputs": [],
   "source": [
    "sc=StandardScaler()\n",
    "numeric=['age', 'bmi', 'children']\n",
    "X_train[numeric]=sc.fit_transform(X_train[numeric])\n",
    "X_test[numeric]=sc.transform(X_test[numeric])"
   ]
  },
  {
   "cell_type": "markdown",
   "metadata": {},
   "source": [
    "# LinearRegression"
   ]
  },
  {
   "cell_type": "code",
   "execution_count": 21,
   "metadata": {},
   "outputs": [
    {
     "name": "stdout",
     "output_type": "stream",
     "text": [
      "Linear Regression\n",
      "R2 Score: 0.7602640802497019 \n",
      " MAE: 4204.415654724193 \n",
      " MSE: 5927.226827909312\n"
     ]
    }
   ],
   "source": [
    "lr=LinearRegression()\n",
    "lr.fit(X_train,y_train)\n",
    "y_pre=lr.predict(X_test)\n",
    "print(\"Linear Regression\")\n",
    "print(\"R2 Score:\",r2_score(y_test,y_pre),\"\\n\",\"MAE:\",mean_absolute_error(y_test,y_pre),\"\\n\",\"MSE:\",np.sqrt(mean_squared_error(y_test,y_pre)))"
   ]
  },
  {
   "cell_type": "markdown",
   "metadata": {},
   "source": [
    "**Observation:**\n",
    "- **R2 Score of LinearRegression is 76%**"
   ]
  },
  {
   "cell_type": "markdown",
   "metadata": {},
   "source": [
    "# DecisionTreeRegressor"
   ]
  },
  {
   "cell_type": "code",
   "execution_count": 22,
   "metadata": {},
   "outputs": [
    {
     "name": "stdout",
     "output_type": "stream",
     "text": [
      "DecisionTreeRegressor\n",
      "R2 Score: 0.7238503324918447 \n",
      " MAE: 2913.2572404049774 \n",
      " MSE: 6361.466655191974\n"
     ]
    }
   ],
   "source": [
    "dt=DecisionTreeRegressor()\n",
    "dt.fit(X_train,y_train)\n",
    "y_pre=dt.predict(X_test)\n",
    "print(\"DecisionTreeRegressor\")\n",
    "print(\"R2 Score:\",r2_score(y_test,y_pre),\"\\n\",\"MAE:\",mean_absolute_error(y_test,y_pre),\"\\n\",\"MSE:\",np.sqrt(mean_squared_error(y_test,y_pre)))"
   ]
  },
  {
   "cell_type": "markdown",
   "metadata": {},
   "source": [
    "**Observation:**\n",
    "- **R2 Score of DecisionTreeRegressor is 72%**"
   ]
  },
  {
   "cell_type": "markdown",
   "metadata": {},
   "source": [
    "# SVR(Support Vector Regression )"
   ]
  },
  {
   "cell_type": "code",
   "execution_count": 23,
   "metadata": {},
   "outputs": [
    {
     "name": "stdout",
     "output_type": "stream",
     "text": [
      "SVR\n",
      "R2 Score: -0.0813150467358068 \n",
      " MAE: 8284.522600650624 \n",
      " MSE: 12588.127003492918\n"
     ]
    }
   ],
   "source": [
    "svr=SVR()\n",
    "svr.fit(X_train,y_train)\n",
    "y_pre=svr.predict(X_test)\n",
    "print(\"SVR\")\n",
    "print(\"R2 Score:\",r2_score(y_test,y_pre),\"\\n\",\"MAE:\",mean_absolute_error(y_test,y_pre),\"\\n\",\"MSE:\",np.sqrt(mean_squared_error(y_test,y_pre)))"
   ]
  },
  {
   "cell_type": "markdown",
   "metadata": {},
   "source": [
    "**Observation:**\n",
    "- **R2 Score of SVR is -8%**"
   ]
  },
  {
   "cell_type": "markdown",
   "metadata": {},
   "source": [
    "# RandomForestRegressor"
   ]
  },
  {
   "cell_type": "code",
   "execution_count": 24,
   "metadata": {},
   "outputs": [
    {
     "name": "stdout",
     "output_type": "stream",
     "text": [
      "RandomForestRegressor\n",
      "R2 Score: 0.8439337627868168 \n",
      " MAE: 2602.190610648192 \n",
      " MSE: 4782.329247536528\n"
     ]
    }
   ],
   "source": [
    "rf=RandomForestRegressor()\n",
    "rf.fit(X_train,y_train)\n",
    "y_pre=rf.predict(X_test)\n",
    "print(\"RandomForestRegressor\")\n",
    "print(\"R2 Score:\",r2_score(y_test,y_pre),\"\\n\",\"MAE:\",mean_absolute_error(y_test,y_pre),\"\\n\",\"MSE:\",np.sqrt(mean_squared_error(y_test,y_pre)))"
   ]
  },
  {
   "cell_type": "markdown",
   "metadata": {},
   "source": [
    "**Observation:**\n",
    "- **R2 Score of RandomForestRegressor is 84.8%**"
   ]
  },
  {
   "cell_type": "markdown",
   "metadata": {},
   "source": [
    "# KNeighborsRegressor"
   ]
  },
  {
   "cell_type": "code",
   "execution_count": 25,
   "metadata": {},
   "outputs": [
    {
     "name": "stdout",
     "output_type": "stream",
     "text": [
      "KNN\n",
      "R2 Score: 0.705990982031571 \n",
      " MAE: 3878.3953321199097 \n",
      " MSE: 6563.950820437874\n"
     ]
    }
   ],
   "source": [
    "knn=KNeighborsRegressor()\n",
    "knn.fit(X_train,y_train)\n",
    "y_pre=knn.predict(X_test)\n",
    "print('KNN')\n",
    "print(\"R2 Score:\",r2_score(y_test,y_pre),\"\\n\",\"MAE:\",mean_absolute_error(y_test,y_pre),\"\\n\",\"MSE:\",np.sqrt(mean_squared_error(y_test,y_pre)))"
   ]
  },
  {
   "cell_type": "markdown",
   "metadata": {},
   "source": [
    "**Observation:**\n",
    "- **R2 Score of KNN is 70%**"
   ]
  },
  {
   "cell_type": "markdown",
   "metadata": {},
   "source": [
    "**Conclusion**\n",
    "- **R2 Score of RandomForestRegressor is 84.8% > LinearRegression is 76% > DecisionTreeRegressor is 72% > KNN is 70% > SVR is 8%**"
   ]
  },
  {
   "cell_type": "markdown",
   "metadata": {},
   "source": [
    "**RandomForestRegressor shows highest R2 Score SO, now we apply cross validation on it**"
   ]
  },
  {
   "cell_type": "markdown",
   "metadata": {},
   "source": [
    "# Using Cross Validation"
   ]
  },
  {
   "cell_type": "code",
   "execution_count": 29,
   "metadata": {},
   "outputs": [
    {
     "name": "stdout",
     "output_type": "stream",
     "text": [
      "RandomForest using Cross-Validation Accuracy: 82.59242205983405\n",
      "Testing Accuracy: 84.64353574853794\n"
     ]
    }
   ],
   "source": [
    "rf=RandomForestRegressor(random_state=42)\n",
    "score = cross_val_score(rf,X_train,y_train,cv=5,n_jobs=-1)\n",
    "rf.fit(X_train,y_train)\n",
    "print(\"RandomForest using Cross-Validation Accuracy:\",score.mean()*100)\n",
    "print(\"Testing Accuracy:\",rf.score(X_test,y_test)*100)"
   ]
  },
  {
   "cell_type": "markdown",
   "metadata": {},
   "source": [
    "# Project Outcomes & Conclusions"
   ]
  },
  {
   "cell_type": "markdown",
   "metadata": {},
   "source": [
    "**Here are some of the key outcomes of the project:**\n",
    "- The Dataset was quiet small  around 1338 samples & 7 features.\n",
    "- Some features are catagorical we apply labelencoder to convert them into numerical form.\n",
    "- Visualising the distribution of data & their relationships, helped us to get some insights on the relationship between the feature-set.\n",
    "- Testing multiple algorithms  gave us some understanding on the model performance for various algorithms on this specific dataset.\n",
    "- The Random Forest Regressor & Linear Regression performed exceptionally well on the current dataset, considering R2 Score as the key-metric."
   ]
  },
  {
   "cell_type": "code",
   "execution_count": null,
   "metadata": {},
   "outputs": [],
   "source": []
  }
 ],
 "metadata": {
  "kernelspec": {
   "display_name": "Python 3",
   "language": "python",
   "name": "python3"
  },
  "language_info": {
   "codemirror_mode": {
    "name": "ipython",
    "version": 3
   },
   "file_extension": ".py",
   "mimetype": "text/x-python",
   "name": "python",
   "nbconvert_exporter": "python",
   "pygments_lexer": "ipython3",
   "version": "3.8.5"
  }
 },
 "nbformat": 4,
 "nbformat_minor": 4
}
